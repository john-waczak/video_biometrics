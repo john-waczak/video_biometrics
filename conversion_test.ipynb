{
 "cells": [
  {
   "cell_type": "code",
   "execution_count": 1,
   "metadata": {},
   "outputs": [],
   "source": [
    "import numpy as np \n",
    "import matplotlib.pyplot as plot "
   ]
  },
  {
   "cell_type": "markdown",
   "metadata": {},
   "source": [
    "### source: https://www.kdnuggets.com/2020/06/easy-speech-text-python.html"
   ]
  },
  {
   "cell_type": "code",
   "execution_count": 4,
   "metadata": {},
   "outputs": [
    {
     "name": "stdout",
     "output_type": "stream",
     "text": [
      "Sorry.. run again...\n"
     ]
    }
   ],
   "source": [
    "import speech_recognition as sr\n",
    "\n",
    "# Initialize recognizer class (for recognizing the speech)\n",
    "r = sr.Recognizer()\n",
    "\n",
    "# Reading Audio file as source\n",
    "# listening the audio file and store in audio_text variable\n",
    "\n",
    "with sr.AudioFile('./audio.wav') as source:\n",
    "    \n",
    "    audio_text = r.record(source)\n",
    "    \n",
    "# recoginize_() method will throw a request error if the API is unreachable, hence using exception handling\n",
    "    try:\n",
    "        \n",
    "        # using google speech recognition\n",
    "        text = r.recognize_google(audio_text)\n",
    "        print('Converting audio transcripts into text ...')\n",
    "        print(text)\n",
    "     \n",
    "    except:\n",
    "         print('Sorry.. run again...')"
   ]
  },
  {
   "cell_type": "markdown",
   "metadata": {},
   "source": [
    "# Let's see if the same thing works for an mp4 file"
   ]
  },
  {
   "cell_type": "code",
   "execution_count": 8,
   "metadata": {},
   "outputs": [],
   "source": [
    "def speech_to_text(path): \n",
    "    r = sr.Recognizer() \n",
    "    with sr.AudioFile(path) as source: \n",
    "        audio = r.record(source) \n",
    "        try: \n",
    "            text = r.recognize_google(audio) \n",
    "            print(text) \n",
    "            return text\n",
    "        except: \n",
    "            print('Conversion unsuccessful')\n",
    "            return \"\" "
   ]
  },
  {
   "cell_type": "code",
   "execution_count": 9,
   "metadata": {},
   "outputs": [
    {
     "name": "stdout",
     "output_type": "stream",
     "text": [
      "do a quick test is he able to walk in there and I just seen how many times can you shoot\n"
     ]
    },
    {
     "data": {
      "text/plain": [
       "'do a quick test is he able to walk in there and I just seen how many times can you shoot'"
      ]
     },
     "execution_count": 9,
     "metadata": {},
     "output_type": "execute_result"
    }
   ],
   "source": [
    "speech_to_text('./output-audio.wav')"
   ]
  },
  {
   "cell_type": "markdown",
   "metadata": {},
   "source": [
    "# We need to split the file into smaller pieces. Ideally we do this by splitting on the silences (a common audio processing task)"
   ]
  },
  {
   "cell_type": "code",
   "execution_count": 9,
   "metadata": {},
   "outputs": [
    {
     "name": "stdout",
     "output_type": "stream",
     "text": [
      "['./audio-chunks/audio_segment000.wav', './audio-chunks/audio_segment001.wav', './audio-chunks/audio_segment002.wav', './audio-chunks/audio_segment003.wav', './audio-chunks/audio_segment004.wav', './audio-chunks/audio_segment005.wav', './audio-chunks/audio_segment006.wav', './audio-chunks/audio_segment007.wav', './audio-chunks/audio_segment008.wav', './audio-chunks/audio_segment009.wav', './audio-chunks/audio_segment010.wav', './audio-chunks/audio_segment011.wav', './audio-chunks/audio_segment012.wav', './audio-chunks/audio_segment013.wav', './audio-chunks/audio_segment014.wav', './audio-chunks/audio_segment015.wav', './audio-chunks/audio_segment016.wav', './audio-chunks/audio_segment017.wav', './audio-chunks/audio_segment018.wav', './audio-chunks/audio_segment019.wav', './audio-chunks/audio_segment020.wav', './audio-chunks/audio_segment021.wav', './audio-chunks/audio_segment022.wav', './audio-chunks/audio_segment023.wav', './audio-chunks/audio_segment024.wav']\n"
     ]
    }
   ],
   "source": [
    "from glob import glob \n",
    "import re \n",
    "path_to_audio = './audio-chunks/'\n",
    "files = glob(path_to_audio+'*.wav')\n",
    "files.sort(key=lambda f: int(re.sub('\\D', '', f)))\n",
    "print(files)"
   ]
  },
  {
   "cell_type": "code",
   "execution_count": null,
   "metadata": {},
   "outputs": [
    {
     "name": "stdout",
     "output_type": "stream",
     "text": [
      "which is in this is a controversial thing to say and I got in trouble or one of my podcast guess Gavin de Becker security Guru on my podcast talking about the Primacy of\n",
      "wishing here like like it would be our intuitions are actually really good for detecting something that makes us uncomfortable about another person right and this is this becomes Politically Incorrect really fast right because it is like\n",
      "you see a guy on an elevator who makes you uncomfortable you know Gavin's advice and I think I think the real Saint advice is just don't get on but there many people who get on just because they want to prove they're not racist right or they're not yet it's like\n",
      "and I can know someone who was in a situation like that and didn't work out well and so many intuition is bad for so many things we we have terrible intuitions for statistics and probability Theory and it's\n",
      "over-reliance your whole careers and Nobel prizes have been won on you know who people like you know Danny conoman have shown us how is not only that our intuitions are bad for for the\n",
      "judgments but the reliably bad and we can understand there's a Spare the structure to how bad they are but for judging people who are dangerous to give us the guy who makes make the hair stand up on the back of your neck\n",
      "for reasons we can't understand you know where the eye contact was wrong or the or the or that just the way they were little you know what I mean just like I was called a witness check you know like someone comes up to you and engages you and then they look\n",
      "they just look to check for Witnesses right now like that the people don't unaware that that's even a thing right but went like that body language is very Salient to us and and\n",
      "there are hundreds of things like that that that we immediately fix the prompt you know an intuitive response and that these are intuitions that are from self-defense point-of-view are worth listening to the worst case scenario is you want\n",
      "being a little rude there sorry I'm not going to can't talk but people are people are very dogmatically being trained to ignore those kind of those kind of\n",
      "what do you think those intuitions are like we think intuitions are like when you meet someone Hugo it was person feels dangerous like what is that what's happening what is a lot of gaze detection is a big one we wait and what people do with their eyes\n",
      "is a major variable and just how we feel that you know the relationship is going but it's their micro Expressions that we noticed in people that we're not\n",
      "noticing you know it's just that this is this is not well understood and we're bad judges of whether someone is telling the truth and that's what this has been fairly well studied and they're people who and even people work for the FBI\n",
      "we have much better than chance and detecting whether somebody is lying but there's just we get so much information by being a body language and being in somebody's present and we get it so fast that\n"
     ]
    }
   ],
   "source": [
    "Text = [] \n",
    "for f in files: \n",
    "    Text.append(speech_to_text(f))"
   ]
  },
  {
   "cell_type": "code",
   "execution_count": 13,
   "metadata": {},
   "outputs": [
    {
     "name": "stdout",
     "output_type": "stream",
     "text": [
      "do a quick test is he able to walk in there and I just seen my\n",
      "I'd like stand where you would stand and then\n",
      "those are holes from previous shots how many times can you shoot\n",
      "I can't see it is it plastic\n",
      "\n",
      "I'm the one with the gun you should be excited\n",
      "I know there's a steel wall there\n",
      "are you guys already you're ready I'm coming in so\n",
      "the only only safeties your finger\n",
      "pretty pretty simple Point shoot once you Solitaire that's okay how big is so it's not too big\n",
      "trigger stops and goes is there how do I know when we\n",
      "done okay are you going to say something stopper\n",
      "procedures of how you're going to unload it and I know I've seen his\n",
      "for he's a bad guy that's all I know\n",
      "hi hey hey it's okay hey I'm sorry I'm sorry I'm sorry I'm sorry\n",
      "wow\n",
      "that was exciting\n",
      "have a good have a good one\n"
     ]
    }
   ],
   "source": [
    "for t in Text: \n",
    "    print(t)"
   ]
  },
  {
   "cell_type": "code",
   "execution_count": null,
   "metadata": {},
   "outputs": [],
   "source": []
  }
 ],
 "metadata": {
  "kernelspec": {
   "display_name": "Python 3",
   "language": "python",
   "name": "python3"
  },
  "language_info": {
   "codemirror_mode": {
    "name": "ipython",
    "version": 3
   },
   "file_extension": ".py",
   "mimetype": "text/x-python",
   "name": "python",
   "nbconvert_exporter": "python",
   "pygments_lexer": "ipython3",
   "version": "3.8.2"
  }
 },
 "nbformat": 4,
 "nbformat_minor": 2
}
